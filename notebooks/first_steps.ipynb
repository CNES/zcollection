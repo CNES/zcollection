{
 "cells": [
  {
   "cell_type": "code",
   "execution_count": null,
   "metadata": {},
   "outputs": [],
   "source": [
    "import sys\n",
    "sys.path.insert(0, '../')"
   ]
  },
  {
   "cell_type": "markdown",
   "metadata": {},
   "source": [
    "# First Steps\n",
    "\n",
    "This section outlines the steps required to get started with the main features\n",
    "of the library. Before starting, make sure the library is configured to run on\n",
    "your machine.\n",
    "\n",
    "## Initialization of the environment\n",
    "\n",
    "Before starting, we will create a dataset to handle our collection."
   ]
  },
  {
   "cell_type": "code",
   "execution_count": null,
   "metadata": {},
   "outputs": [],
   "source": [
    "import zcollection.tests.data\n",
    "\n",
    "\n",
    "def create_dataset():\n",
    "    generator = zcollection.tests.data.create_test_dataset_with_fillvalue()\n",
    "    return next(generator)\n",
    "\n",
    "\n",
    "ds = create_dataset()\n",
    "ds.to_xarray()"
   ]
  },
  {
   "cell_type": "markdown",
   "metadata": {},
   "source": [
    "Then we will create a file system in memory."
   ]
  },
  {
   "cell_type": "code",
   "execution_count": null,
   "metadata": {},
   "outputs": [],
   "source": [
    "import fsspec\n",
    "\n",
    "\n",
    "fs = fsspec.filesystem('memory')"
   ]
  },
  {
   "cell_type": "markdown",
   "metadata": {},
   "source": [
    "Finally we create a local dask cluster using only threads in order to work\n",
    "with the file system stored in memory."
   ]
  },
  {
   "cell_type": "code",
   "execution_count": null,
   "metadata": {},
   "outputs": [],
   "source": [
    "import dask.distributed\n",
    "\n",
    "cluster = dask.distributed.LocalCluster(processes=False)\n",
    "client = dask.distributed.Client(cluster)\n",
    "client"
   ]
  },
  {
   "cell_type": "markdown",
   "metadata": {},
   "source": [
    "## Collection\n",
    "\n",
    "This introduction will describe the main functionalities allowing to handle a\n",
    "collection : create, open, load, modify a collection.\n",
    "\n",
    "Before creating our collection, we define the partitioning of our dataset. In\n",
    "this example, we will partition the data by **month** using the variable\n",
    "`time`."
   ]
  },
  {
   "cell_type": "code",
   "execution_count": null,
   "metadata": {},
   "outputs": [],
   "source": [
    "import zcollection\n",
    "\n",
    "partition_handler = zcollection.partitioning.Date((\"time\", ), resolution=\"M\")"
   ]
  },
  {
   "cell_type": "markdown",
   "metadata": {},
   "source": [
    "Finally, we create our collection."
   ]
  },
  {
   "cell_type": "code",
   "execution_count": null,
   "metadata": {},
   "outputs": [],
   "source": [
    "collection = zcollection.create_collection(axis=\"time\",\n",
    "                                           ds=ds,\n",
    "                                           partition_handler=partition_handler,\n",
    "                                           partition_base_dir=\"/my_collection\",\n",
    "                                           filesystem=fs)"
   ]
  },
  {
   "cell_type": "markdown",
   "metadata": {},
   "source": [
    "---\n",
    "**Note**\n",
    "\n",
    "The collection created can be accessed using the following command: \n",
    "\n",
    "    >>> collection = zcollection.open_collection(\"/my_collection\",\n",
    "    >>>                                          filesystem=fs)\n",
    "---\n",
    "\n",
    "When the collection has been created, a configuration file is created. This file\n",
    "contains all the metadata to ensure that all future inserted data will have the\n",
    "same features as the existing data (data consistency)."
   ]
  },
  {
   "cell_type": "code",
   "execution_count": null,
   "metadata": {},
   "outputs": [],
   "source": [
    "collection.metadata.get_config()"
   ]
  },
  {
   "cell_type": "markdown",
   "metadata": {},
   "source": [
    "Now that the collection has been created, we can insert new records."
   ]
  },
  {
   "cell_type": "code",
   "execution_count": null,
   "metadata": {},
   "outputs": [],
   "source": [
    "collection.insert(ds)"
   ]
  },
  {
   "cell_type": "markdown",
   "metadata": {},
   "source": [
    "---\n",
    "**Note**\n",
    "\n",
    "When inserting it’s possible to specify the merge strategy of a partition.\n",
    "By default, the last inserted data overwrite the exising\n",
    "ones. Others strategy can be defined, for example, to update existing data\n",
    "(overwrite the updated data, while keeping the existing ones). This last\n",
    "strategy allows updating incrementally an existing partition.\n",
    "\n",
    "    >>> import zcollection.merging\n",
    "    >>> collection.insert(ds, merge_callable=merging.merge_time_series)\n",
    "---"
   ]
  },
  {
   "cell_type": "markdown",
   "metadata": {},
   "source": [
    "Let's look at the different partitions thus created."
   ]
  },
  {
   "cell_type": "code",
   "execution_count": null,
   "metadata": {},
   "outputs": [],
   "source": [
    "fs.listdir(\"/my_collection/year=2000\")"
   ]
  },
  {
   "cell_type": "markdown",
   "metadata": {},
   "source": [
    "This collection is composed of several partitions, but it is always handled as a\n",
    "single data set.\n",
    "\n",
    "### Loading data\n",
    "\n",
    "To load the dataset call the method `load` on the instance.  By default, the\n",
    "method loads all partitions stored in the collection."
   ]
  },
  {
   "cell_type": "code",
   "execution_count": null,
   "metadata": {},
   "outputs": [],
   "source": [
    "collection.load()"
   ]
  },
  {
   "cell_type": "markdown",
   "metadata": {},
   "source": [
    "You can also select the partitions to be considered by filtering the partitions\n",
    "using keywords used for partitioning."
   ]
  },
  {
   "cell_type": "code",
   "execution_count": null,
   "metadata": {},
   "outputs": [],
   "source": [
    "collection.load(\"year == 2000 and month == 2\")"
   ]
  },
  {
   "cell_type": "markdown",
   "metadata": {},
   "source": [
    "Note that the `load` function may return None if no partition has been selected."
   ]
  },
  {
   "cell_type": "code",
   "execution_count": null,
   "metadata": {},
   "outputs": [],
   "source": [
    "collection.load(\"year == 2002 and month == 2\") is None"
   ]
  },
  {
   "cell_type": "markdown",
   "metadata": {},
   "source": [
    "### Editing variables\n",
    "\n",
    "*The functions for modifying collections are not usable if the collection is\n",
    "open in read-only mode.*\n",
    "\n",
    "It's possible to delete a variable from a collection."
   ]
  },
  {
   "cell_type": "code",
   "execution_count": null,
   "metadata": {},
   "outputs": [],
   "source": [
    "collection.drop_variable(\"var2\")"
   ]
  },
  {
   "cell_type": "code",
   "execution_count": null,
   "metadata": {},
   "outputs": [],
   "source": [
    "collection.load()"
   ]
  },
  {
   "cell_type": "markdown",
   "metadata": {},
   "source": [
    "**Warning**: The variable used for partitioning cannot be deleted."
   ]
  },
  {
   "cell_type": "code",
   "execution_count": null,
   "metadata": {},
   "outputs": [],
   "source": [
    "collection.drop_variable(\"time\")"
   ]
  },
  {
   "cell_type": "markdown",
   "metadata": {},
   "source": [
    "The `add_variable` method allows you to add a new variable to the collection."
   ]
  },
  {
   "cell_type": "code",
   "execution_count": null,
   "metadata": {},
   "outputs": [],
   "source": [
    "collection.add_variable(ds.metadata().variables[\"var2\"])"
   ]
  },
  {
   "cell_type": "markdown",
   "metadata": {},
   "source": [
    "The newly created variable is initialized with its default value."
   ]
  },
  {
   "cell_type": "code",
   "execution_count": null,
   "metadata": {},
   "outputs": [],
   "source": [
    "collection.load().variables[\"var2\"].values"
   ]
  },
  {
   "cell_type": "markdown",
   "metadata": {},
   "source": [
    "Finally it's possible to update the existing variables.\n",
    "\n",
    "In this example, we will alter the variable `var2` by setting it to 1 anywhere\n",
    "the variable `var1` is defined."
   ]
  },
  {
   "cell_type": "code",
   "execution_count": null,
   "metadata": {},
   "outputs": [],
   "source": [
    "def ones(ds):\n",
    "    return ds.variables[\"var1\"].values * 0 + 1\n",
    "\n",
    "\n",
    "collection.update(ones, \"var2\")"
   ]
  },
  {
   "cell_type": "code",
   "execution_count": null,
   "metadata": {},
   "outputs": [],
   "source": [
    "collection.load().variables[\"var2\"].values"
   ]
  },
  {
   "cell_type": "markdown",
   "metadata": {},
   "source": [
    "## Views\n",
    "\n",
    "A view allows you to extend a collection (a view reference) that you are not allowed to modify."
   ]
  },
  {
   "cell_type": "code",
   "execution_count": null,
   "metadata": {},
   "outputs": [],
   "source": [
    "view = zcollection.create_view(\"/my_view\",\n",
    "                               zcollection.view.ViewReference(\n",
    "                                   \"/my_collection\", fs),\n",
    "                               filesystem=fs)"
   ]
  },
  {
   "cell_type": "markdown",
   "metadata": {},
   "source": [
    "When the view is created, it has no data of its own, it uses all the data\n",
    "defined in the reference view."
   ]
  },
  {
   "cell_type": "code",
   "execution_count": null,
   "metadata": {},
   "outputs": [],
   "source": [
    "fs.listdir(\"/my_view\")"
   ]
  },
  {
   "cell_type": "code",
   "execution_count": null,
   "metadata": {},
   "outputs": [],
   "source": [
    "view.load()"
   ]
  },
  {
   "cell_type": "markdown",
   "metadata": {},
   "source": [
    "Such a state of the view is not very interesting. But it is possible to add and\n",
    "modify variables in order to enhance the view."
   ]
  },
  {
   "cell_type": "code",
   "execution_count": null,
   "metadata": {},
   "outputs": [],
   "source": [
    "var3 = ds.metadata().variables[\"var2\"]\n",
    "var3.name = \"var3\""
   ]
  },
  {
   "cell_type": "code",
   "execution_count": null,
   "metadata": {},
   "outputs": [],
   "source": [
    "view.add_variable(var3)"
   ]
  },
  {
   "cell_type": "markdown",
   "metadata": {},
   "source": [
    "This step creates all necessary partitions for the new variable."
   ]
  },
  {
   "cell_type": "code",
   "execution_count": null,
   "metadata": {},
   "outputs": [],
   "source": [
    "fs.listdir(\"/my_view/year=2000\")"
   ]
  },
  {
   "cell_type": "markdown",
   "metadata": {},
   "source": [
    "The new variable is not initialized."
   ]
  },
  {
   "cell_type": "code",
   "execution_count": null,
   "metadata": {},
   "outputs": [],
   "source": [
    "view.load().variables[\"var3\"].values"
   ]
  },
  {
   "cell_type": "markdown",
   "metadata": {},
   "source": [
    " The same principle used by the collection allows to update the variables."
   ]
  },
  {
   "cell_type": "code",
   "execution_count": null,
   "metadata": {},
   "outputs": [],
   "source": [
    "view.update(ones, \"var3\")"
   ]
  },
  {
   "cell_type": "code",
   "execution_count": null,
   "metadata": {},
   "outputs": [],
   "source": [
    "var3 = view.load().variables[\"var3\"].values\n",
    "var2 = view.load().variables[\"var2\"].values\n",
    "var2 - var3"
   ]
  },
  {
   "cell_type": "markdown",
   "metadata": {},
   "source": [
    "**Warning**: the variables of the reference collection cannot be edited."
   ]
  },
  {
   "cell_type": "code",
   "execution_count": null,
   "metadata": {},
   "outputs": [],
   "source": [
    "view.update(ones, \"var2\")"
   ]
  },
  {
   "cell_type": "code",
   "execution_count": null,
   "metadata": {},
   "outputs": [],
   "source": [
    "view.load()"
   ]
  },
  {
   "cell_type": "markdown",
   "metadata": {},
   "source": [
    "Finally, a method allows you to delete variables from the view."
   ]
  },
  {
   "cell_type": "code",
   "execution_count": null,
   "metadata": {},
   "outputs": [],
   "source": [
    "view.drop_variable(\"var3\")"
   ]
  },
  {
   "cell_type": "markdown",
   "metadata": {},
   "source": [
    "**Warning**: the variables of the reference collection cannot be deleted."
   ]
  },
  {
   "cell_type": "code",
   "execution_count": null,
   "metadata": {},
   "outputs": [],
   "source": [
    "view.drop_variable(\"var2\")"
   ]
  },
  {
   "cell_type": "markdown",
   "metadata": {},
   "source": [
    "## Indexing\n",
    "\n",
    "A collection can be indexed. This allows quick access to the data without having\n",
    "to browse the entire dataset.\n",
    "\n",
    "We will index another data set. This one contains measurements of a fictitious\n",
    "satellite on several half-orbits.\n",
    "\n",
    "___\n",
    "*Note*\n",
    "\n",
    "This module is optional. But to use it you need the ``PyArrow`` library.\n",
    "___"
   ]
  },
  {
   "cell_type": "code",
   "execution_count": null,
   "metadata": {},
   "outputs": [],
   "source": [
    "ds = zcollection.Dataset.from_xarray(\n",
    "    zcollection.tests.data.create_test_sequence(5, 20, 10))\n",
    "ds"
   ]
  },
  {
   "cell_type": "code",
   "execution_count": null,
   "metadata": {},
   "outputs": [],
   "source": [
    "collection = zcollection.create_collection(\n",
    "        \"time\",\n",
    "        ds,\n",
    "        zcollection.partitioning.Date((\"time\", ), \"M\"),\n",
    "        partition_base_dir=str(\"/one_other_collection\"),\n",
    "        filesystem=fs)\n",
    "collection.insert(ds, zcollection.merging.merge_time_series)"
   ]
  },
  {
   "cell_type": "markdown",
   "metadata": {},
   "source": [
    "Here we have created a collection partitioned by month."
   ]
  },
  {
   "cell_type": "code",
   "execution_count": null,
   "metadata": {},
   "outputs": [],
   "source": [
    "fs.listdir(\"/one_other_collection/year=2000\")"
   ]
  },
  {
   "cell_type": "markdown",
   "metadata": {},
   "source": [
    "The idea of the implementation is to calculate for each visited partition, the\n",
    "slice of data that has a constant quantity. In our example, we will rely on the\n",
    "cycle and pass number information. The first method we will implement is the\n",
    "detection of these constant parts of two vectors containing the cycle and pass\n",
    "number."
   ]
  },
  {
   "cell_type": "code",
   "execution_count": null,
   "metadata": {},
   "outputs": [],
   "source": [
    "from typing import Iterator, Tuple\n",
    "\n",
    "import numpy\n",
    "\n",
    "\n",
    "def split_half_orbit(\n",
    "    cycle_number: numpy.ndarray,\n",
    "    pass_number: numpy.ndarray,\n",
    ") -> Iterator[Tuple[int, int]]:\n",
    "    \"\"\"\n",
    "    Calculate the indexes of the start and stop of each half-orbit.\n",
    "    Args:\n",
    "        pass_number: Pass numbers.\n",
    "    Returns:\n",
    "        Iterator of start and stop indexes.\n",
    "    \"\"\"\n",
    "    assert pass_number.shape == cycle_number.shape\n",
    "    pass_idx = numpy.where(numpy.roll(pass_number, 1) != pass_number)[0]\n",
    "    cycle_idx = numpy.where(numpy.roll(cycle_number, 1) != cycle_number)[0]\n",
    "\n",
    "    half_orbit = numpy.unique(\n",
    "        numpy.concatenate(\n",
    "            (pass_idx, cycle_idx, numpy.array([pass_number.size],\n",
    "                                              dtype=\"int64\"))))\n",
    "    del pass_idx, cycle_idx\n",
    "\n",
    "    for idx0, idx1 in tuple(zip(half_orbit[:-1], half_orbit[1:])):\n",
    "        yield idx0, idx1"
   ]
  },
  {
   "cell_type": "markdown",
   "metadata": {},
   "source": [
    "Now we will compute these constant parts from a dataset contained in a\n",
    "partition."
   ]
  },
  {
   "cell_type": "code",
   "execution_count": null,
   "metadata": {},
   "outputs": [],
   "source": [
    "def _half_orbit(\n",
    "    ds: zcollection.Dataset,\n",
    "    *args,\n",
    "    **kwargs,\n",
    ") -> numpy.ndarray:\n",
    "    \"\"\"\n",
    "    Return the indexes of the start and stop of each half-orbit.\n",
    "    Args:\n",
    "        ds: Datasets stored in a partition to be indexed.\n",
    "    Returns:\n",
    "        Dictionary of start and stop indexes for each half-orbit.\n",
    "    \"\"\"\n",
    "    pass_number_varname = kwargs.pop('pass_number', 'pass_number')\n",
    "    cycle_number_varname = kwargs.pop('cycle_number', 'cycle_number')\n",
    "    pass_number = ds.variables[pass_number_varname].values\n",
    "    cycle_number = ds.variables[cycle_number_varname].values\n",
    "\n",
    "    generator = ((\n",
    "        i0,\n",
    "        i1,\n",
    "        cycle_number[i0],\n",
    "        pass_number[i0],\n",
    "    ) for i0, i1 in split_half_orbit(cycle_number, pass_number))\n",
    "\n",
    "    return numpy.fromiter(\n",
    "        generator, numpy.dtype(HalfOrbitIndexer.dtype()))"
   ]
  },
  {
   "cell_type": "markdown",
   "metadata": {},
   "source": [
    "Finally, we implement our indexing class. The base class implements the index\n",
    "update and the associated queries."
   ]
  },
  {
   "cell_type": "code",
   "execution_count": null,
   "metadata": {},
   "outputs": [],
   "source": [
    "import pathlib\n",
    "from typing import List, Optional, Union\n",
    "\n",
    "import zcollection.indexing\n",
    "\n",
    "\n",
    "class HalfOrbitIndexer(zcollection.indexing.Indexer):\n",
    "    \"\"\"Index collection by half-orbit.\n",
    "    \"\"\"\n",
    "    #: Column name of the cycle number.\n",
    "    CYCLE_NUMBER = \"cycle_number\"\n",
    "\n",
    "    #: Column name of the pass number.\n",
    "    PASS_NUMBER = \"pass_number\"\n",
    "\n",
    "    @classmethod\n",
    "    def dtype(cls, /, **kwargs) -> List[Tuple[str, str]]:\n",
    "        \"\"\"Return the columns of the index.\n",
    "        Returns:\n",
    "            A tuple of (name, type) pairs.\n",
    "        \"\"\"\n",
    "        return super().dtype() + [\n",
    "            (cls.CYCLE_NUMBER, \"uint16\"),\n",
    "            (cls.PASS_NUMBER, \"uint16\"),\n",
    "        ]\n",
    "\n",
    "    @classmethod\n",
    "    def create(\n",
    "        cls,\n",
    "        path: Union[pathlib.Path, str],\n",
    "        ds: zcollection.Collection,\n",
    "        filesystem: Optional[fsspec.AbstractFileSystem] = None,\n",
    "        **kwargs,\n",
    "    ) -> \"HalfOrbitIndexer\":\n",
    "        \"\"\"Create a new index.\n",
    "        Args:\n",
    "            path: The path to the index.\n",
    "            ds: The collection to be indexed.\n",
    "            filesystem: The filesystem to use.\n",
    "        Returns:\n",
    "            The created index.\n",
    "        \"\"\"\n",
    "        return super()._create(path,\n",
    "                               ds,\n",
    "                               meta=dict(attribute=b\"value\"),\n",
    "                               filesystem=filesystem)  # type: ignore\n",
    "\n",
    "    def update(\n",
    "        self,\n",
    "        ds: zcollection.Collection,\n",
    "        bag_partition_size: Optional[int] = None,\n",
    "        bag_npartitions: Optional[int] = None,\n",
    "        **kwargs,\n",
    "    ) -> None:\n",
    "        \"\"\"\n",
    "        Update the index.\n",
    "        Args:\n",
    "            ds: New data stored in the collection to be indexed.\n",
    "            bag_partition_size: The length of each bag partition.\n",
    "            bag_npartitions: The number of desired bag partitions.\n",
    "            cycle_number: The name of the cycle number variable stored in the\n",
    "                collection. Defaults to \"cycle_number\".\n",
    "            pass_number: The name of the pass number variable stored in the\n",
    "                collection. Defaults to \"pass_number\".\n",
    "        \"\"\"\n",
    "        super()._update(ds, _half_orbit, bag_partition_size, bag_npartitions,\n",
    "                        **kwargs)"
   ]
  },
  {
   "cell_type": "markdown",
   "metadata": {},
   "source": [
    "Now we can create our index and fill it."
   ]
  },
  {
   "cell_type": "code",
   "execution_count": null,
   "metadata": {},
   "outputs": [],
   "source": [
    "indexer = HalfOrbitIndexer.create(\"/index.parquet\", collection, filesystem=fs)\n",
    "indexer.update(collection)"
   ]
  },
  {
   "cell_type": "markdown",
   "metadata": {},
   "source": [
    "The following command allows us to view the information stored in our index: the\n",
    "first and last indexes of the partition associated with the registered\n",
    "half-orbit number and the identifier of the indexed partition."
   ]
  },
  {
   "cell_type": "code",
   "execution_count": null,
   "metadata": {},
   "outputs": [],
   "source": [
    "indexer.table.to_pandas()"
   ]
  },
  {
   "cell_type": "markdown",
   "metadata": {},
   "source": [
    "This index can now be used to load a part of a collection."
   ]
  },
  {
   "cell_type": "code",
   "execution_count": null,
   "metadata": {},
   "outputs": [],
   "source": [
    "selection = collection.load(indexers=indexer.query(dict(pass_number=[1, 2])))\n",
    "selection.to_xarray().compute()"
   ]
  }
 ],
 "metadata": {
  "interpreter": {
   "hash": "a24ecab50df47ce3d59cafc0c68c9d76e9d576a535e43b4bcf7fa7a4dfe652c2"
  },
  "kernelspec": {
   "display_name": "Python 3.8.8 64-bit ('forge': conda)",
   "name": "python3"
  },
  "language_info": {
   "codemirror_mode": {
    "name": "ipython",
    "version": 3
   },
   "file_extension": ".py",
   "mimetype": "text/x-python",
   "name": "python",
   "nbconvert_exporter": "python",
   "pygments_lexer": "ipython3",
   "version": "3.8.12"
  },
  "orig_nbformat": 4
 },
 "nbformat": 4,
 "nbformat_minor": 2
}
