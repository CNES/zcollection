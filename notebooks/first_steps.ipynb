{
 "cells": [
  {
   "cell_type": "code",
   "execution_count": null,
   "metadata": {},
   "outputs": [],
   "source": [
    "import sys\n",
    "sys.path.insert(0, '../')"
   ]
  },
  {
   "cell_type": "markdown",
   "metadata": {},
   "source": [
    "# First Steps\n",
    "\n",
    "This section outlines the steps required to get started with the main features\n",
    "of the library. Before starting, make sure the library is configured to run on\n",
    "your machine.\n",
    "\n",
    "## Initialization of the environment\n",
    "\n",
    "Before starting, we will create a dataset to handle our collection."
   ]
  },
  {
   "cell_type": "code",
   "execution_count": null,
   "metadata": {},
   "outputs": [],
   "source": [
    "import zcollection.tests.data\n",
    "\n",
    "\n",
    "def create_dataset():\n",
    "    generator = zcollection.tests.data.create_test_dataset_with_fillvalue()\n",
    "    return next(generator)\n",
    "\n",
    "\n",
    "ds = create_dataset()\n",
    "ds.to_xarray()"
   ]
  },
  {
   "cell_type": "markdown",
   "metadata": {},
   "source": [
    "Then we will create a file system in memory."
   ]
  },
  {
   "cell_type": "code",
   "execution_count": null,
   "metadata": {},
   "outputs": [],
   "source": [
    "import fsspec\n",
    "\n",
    "\n",
    "fs = fsspec.filesystem('memory')"
   ]
  },
  {
   "cell_type": "markdown",
   "metadata": {},
   "source": [
    "Finally we create a local dask cluster using only threads in order to work\n",
    "with the file system stored in memory."
   ]
  },
  {
   "cell_type": "code",
   "execution_count": null,
   "metadata": {},
   "outputs": [],
   "source": [
    "import dask.distributed\n",
    "\n",
    "cluster = dask.distributed.LocalCluster(processes=False)\n",
    "client = dask.distributed.Client(cluster)\n",
    "client"
   ]
  },
  {
   "cell_type": "markdown",
   "metadata": {},
   "source": [
    "## Collection\n",
    "\n",
    "This introduction will describe the main functionalities allowing to handle a\n",
    "collection : create, open, load, modify a collection.\n",
    "\n",
    "Before creating our collection, we define the partitioning of our dataset. In\n",
    "this example, we will partition the data by **month** using the variable\n",
    "`time`."
   ]
  },
  {
   "cell_type": "code",
   "execution_count": null,
   "metadata": {},
   "outputs": [],
   "source": [
    "import zcollection\n",
    "\n",
    "partition_handler = zcollection.partitioning.Date((\"time\", ), resolution=\"M\")"
   ]
  },
  {
   "cell_type": "markdown",
   "metadata": {},
   "source": [
    "Finally, we create our collection."
   ]
  },
  {
   "cell_type": "code",
   "execution_count": null,
   "metadata": {},
   "outputs": [],
   "source": [
    "collection = zcollection.create_collection(axis=\"time\",\n",
    "                                           ds=ds,\n",
    "                                           partition_handler=partition_handler,\n",
    "                                           partition_base_dir=\"/my_collection\",\n",
    "                                           filesystem=fs)"
   ]
  },
  {
   "cell_type": "markdown",
   "metadata": {},
   "source": [
    "---\n",
    "**Note**\n",
    "\n",
    "The collection created can be accessed using the following command: \n",
    "\n",
    "    >> collection = zcollection.open_collection(\"/my_collection\",\n",
    "    >>                                          filesystem=fs)\n",
    "---\n",
    "\n",
    "When the collection has been created, a configuration file is created. This file\n",
    "contains all the metadata to ensure that all future inserted data will have the\n",
    "same features as the existing data (data consistency)."
   ]
  },
  {
   "cell_type": "code",
   "execution_count": null,
   "metadata": {},
   "outputs": [],
   "source": [
    "collection.metadata.get_config()"
   ]
  },
  {
   "cell_type": "markdown",
   "metadata": {},
   "source": [
    "Now that the collection has been created, we can insert new records."
   ]
  },
  {
   "cell_type": "code",
   "execution_count": null,
   "metadata": {},
   "outputs": [],
   "source": [
    "collection.insert(ds)"
   ]
  },
  {
   "cell_type": "markdown",
   "metadata": {},
   "source": [
    "---\n",
    "**Note**\n",
    "\n",
    "When inserting it’s possible to specify the merge strategy of a partition.\n",
    "By default, the last inserted data overwrite the exising\n",
    "ones. Others strategy can be defined, for example, to update existing data\n",
    "(overwrite the updated data, while keeping the existing ones). This last\n",
    "strategy allows updating incrementally an existing partition.\n",
    "\n",
    "    >> import zcollection.merging\n",
    "    >>\n",
    "    >> collection.insert(ds, merge_callable=merging.merge_time_series)\n",
    "---"
   ]
  },
  {
   "cell_type": "markdown",
   "metadata": {},
   "source": [
    "Let's look at the different partitions thus created."
   ]
  },
  {
   "cell_type": "code",
   "execution_count": null,
   "metadata": {},
   "outputs": [],
   "source": [
    "fs.listdir(\"/my_collection/year=2000\")"
   ]
  },
  {
   "cell_type": "markdown",
   "metadata": {},
   "source": [
    "This collection is composed of several partitions, but it is always handled as a\n",
    "single data set.\n",
    "\n",
    "### Loading data\n",
    "\n",
    "To load the dataset call the method `load` on the instance.  By default, the\n",
    "method loads all partitions stored in the collection."
   ]
  },
  {
   "cell_type": "code",
   "execution_count": null,
   "metadata": {},
   "outputs": [],
   "source": [
    "collection.load()"
   ]
  },
  {
   "cell_type": "markdown",
   "metadata": {},
   "source": [
    "You can also select the partitions to be considered by filtering the partitions\n",
    "using keywords used for partitioning."
   ]
  },
  {
   "cell_type": "code",
   "execution_count": null,
   "metadata": {},
   "outputs": [],
   "source": [
    "collection.load(\"year == 2000 and month == 2\")"
   ]
  },
  {
   "cell_type": "markdown",
   "metadata": {},
   "source": [
    "Note that the `load` function may return None if no partition has been selected."
   ]
  },
  {
   "cell_type": "code",
   "execution_count": null,
   "metadata": {},
   "outputs": [],
   "source": [
    "collection.load(\"year == 2002 and month == 2\") is None"
   ]
  },
  {
   "cell_type": "markdown",
   "metadata": {},
   "source": [
    "### Editing variables\n",
    "\n",
    "*The functions for modifying collections are not usable if the collection is\n",
    "open in read-only mode.*\n",
    "\n",
    "It's possible to delete a variable from a collection."
   ]
  },
  {
   "cell_type": "code",
   "execution_count": null,
   "metadata": {},
   "outputs": [],
   "source": [
    "collection.drop_variable(\"var2\")"
   ]
  },
  {
   "cell_type": "code",
   "execution_count": null,
   "metadata": {},
   "outputs": [],
   "source": [
    "collection.load()"
   ]
  },
  {
   "cell_type": "markdown",
   "metadata": {},
   "source": [
    "**Warning**: The variable used for partitioning cannot be deleted."
   ]
  },
  {
   "cell_type": "code",
   "execution_count": null,
   "metadata": {},
   "outputs": [],
   "source": [
    "collection.drop_variable(\"time\")"
   ]
  },
  {
   "cell_type": "markdown",
   "metadata": {},
   "source": [
    "The `add_variable` method allows you to add a new variable to the collection."
   ]
  },
  {
   "cell_type": "code",
   "execution_count": null,
   "metadata": {},
   "outputs": [],
   "source": [
    "collection.add_variable(ds.metadata().variables[\"var2\"])"
   ]
  },
  {
   "cell_type": "markdown",
   "metadata": {},
   "source": [
    "The newly created variable is initialized with its default value."
   ]
  },
  {
   "cell_type": "code",
   "execution_count": null,
   "metadata": {},
   "outputs": [],
   "source": [
    "collection.load().variables[\"var2\"].values"
   ]
  },
  {
   "cell_type": "markdown",
   "metadata": {},
   "source": [
    "Finally it's possible to update the existing variables.\n",
    "\n",
    "In this example, we will alter the variable `var2` by setting it to 1 anywhere\n",
    "the variable `var1` is defined."
   ]
  },
  {
   "cell_type": "code",
   "execution_count": null,
   "metadata": {},
   "outputs": [],
   "source": [
    "def ones(ds):\n",
    "    return ds.variables[\"var1\"].values * 0 + 1\n",
    "\n",
    "\n",
    "collection.update(ones, \"var2\")"
   ]
  },
  {
   "cell_type": "code",
   "execution_count": null,
   "metadata": {},
   "outputs": [],
   "source": [
    "collection.load().variables[\"var2\"].values"
   ]
  },
  {
   "cell_type": "markdown",
   "metadata": {},
   "source": [
    "## Views\n",
    "\n",
    "A view allows you to extend a collection (a view reference) that you are not allowed to modify."
   ]
  },
  {
   "cell_type": "code",
   "execution_count": null,
   "metadata": {},
   "outputs": [],
   "source": [
    "view = zcollection.create_view(\"/my_view\",\n",
    "                               zcollection.view.ViewReference(\n",
    "                                   \"/my_collection\", fs),\n",
    "                               filesystem=fs)"
   ]
  },
  {
   "cell_type": "markdown",
   "metadata": {},
   "source": [
    "When the view is created, it has no data of its own, it uses all the data\n",
    "defined in the reference view."
   ]
  },
  {
   "cell_type": "code",
   "execution_count": null,
   "metadata": {},
   "outputs": [],
   "source": [
    "fs.listdir(\"/my_view\")"
   ]
  },
  {
   "cell_type": "code",
   "execution_count": null,
   "metadata": {},
   "outputs": [],
   "source": [
    "view.load()"
   ]
  },
  {
   "cell_type": "markdown",
   "metadata": {},
   "source": [
    "Such a state of the view is not very interesting. But it is possible to add and\n",
    "modify variables in order to enhance the view."
   ]
  },
  {
   "cell_type": "code",
   "execution_count": null,
   "metadata": {},
   "outputs": [],
   "source": [
    "var3 = ds.metadata().variables[\"var2\"]\n",
    "var3.name = \"var3\""
   ]
  },
  {
   "cell_type": "code",
   "execution_count": null,
   "metadata": {},
   "outputs": [],
   "source": [
    "view.add_variable(var3)"
   ]
  },
  {
   "cell_type": "markdown",
   "metadata": {},
   "source": [
    "This step creates all necessary partitions for the new variable."
   ]
  },
  {
   "cell_type": "code",
   "execution_count": null,
   "metadata": {},
   "outputs": [],
   "source": [
    "fs.listdir(\"/my_view/year=2000\")"
   ]
  },
  {
   "cell_type": "markdown",
   "metadata": {},
   "source": [
    "The new variable is not initialized."
   ]
  },
  {
   "cell_type": "code",
   "execution_count": null,
   "metadata": {},
   "outputs": [],
   "source": [
    "view.load().variables[\"var3\"].values"
   ]
  },
  {
   "cell_type": "markdown",
   "metadata": {},
   "source": [
    " The same principle used by the collection allows to update the variables."
   ]
  },
  {
   "cell_type": "code",
   "execution_count": null,
   "metadata": {},
   "outputs": [],
   "source": [
    "view.update(ones, \"var3\")"
   ]
  },
  {
   "cell_type": "code",
   "execution_count": null,
   "metadata": {},
   "outputs": [],
   "source": [
    "var3 = view.load().variables[\"var3\"].values\n",
    "var2 = view.load().variables[\"var2\"].values\n",
    "var2 - var3"
   ]
  },
  {
   "cell_type": "markdown",
   "metadata": {},
   "source": [
    "**Warning**: the variables of the reference collection cannot be edited."
   ]
  },
  {
   "cell_type": "code",
   "execution_count": null,
   "metadata": {},
   "outputs": [],
   "source": [
    "view.update(ones, \"var2\")"
   ]
  },
  {
   "cell_type": "code",
   "execution_count": null,
   "metadata": {},
   "outputs": [],
   "source": [
    "view.load()"
   ]
  },
  {
   "cell_type": "markdown",
   "metadata": {},
   "source": [
    "Finally, a method allows you to delete variables from the view."
   ]
  },
  {
   "cell_type": "code",
   "execution_count": null,
   "metadata": {},
   "outputs": [],
   "source": [
    "view.drop_variable(\"var3\")"
   ]
  },
  {
   "cell_type": "markdown",
   "metadata": {},
   "source": [
    "**Warning**: the variables of the reference collection cannot be deleted."
   ]
  },
  {
   "cell_type": "code",
   "execution_count": null,
   "metadata": {},
   "outputs": [],
   "source": [
    "view.drop_variable(\"var2\")"
   ]
  }
 ],
 "metadata": {
  "interpreter": {
   "hash": "a24ecab50df47ce3d59cafc0c68c9d76e9d576a535e43b4bcf7fa7a4dfe652c2"
  },
  "kernelspec": {
   "display_name": "Python 3.8.8 64-bit ('forge': conda)",
   "name": "python3"
  },
  "language_info": {
   "codemirror_mode": {
    "name": "ipython",
    "version": 3
   },
   "file_extension": ".py",
   "mimetype": "text/x-python",
   "name": "python",
   "nbconvert_exporter": "python",
   "pygments_lexer": "ipython3",
   "version": "3.8.11"
  },
  "orig_nbformat": 4
 },
 "nbformat": 4,
 "nbformat_minor": 2
}
